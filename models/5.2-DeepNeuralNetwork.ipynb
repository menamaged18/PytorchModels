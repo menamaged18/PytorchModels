{
 "cells": [
  {
   "cell_type": "code",
   "execution_count": 1,
   "id": "11cb8a1b-8c66-40fd-ba4a-bf49013de3a7",
   "metadata": {},
   "outputs": [],
   "source": [
    "import torch \n",
    "import torch.nn as nn\n",
    "import torchvision.transforms as transforms\n",
    "import torchvision.datasets as dsets\n",
    "import numpy as np"
   ]
  },
  {
   "cell_type": "code",
   "execution_count": 2,
   "id": "a2d22e73-f9d0-4c3d-8dc6-4e9ca47d6f01",
   "metadata": {},
   "outputs": [],
   "source": [
    "train_dataset = dsets.MNIST(root='./data', train=True, download=True, transform=transforms.ToTensor())\n",
    "validation_dataset = dsets.MNIST(root='./data', train=False, download=True, transform=transforms.ToTensor())"
   ]
  },
  {
   "cell_type": "code",
   "execution_count": 3,
   "id": "8d4cc3c9-c5f8-4c16-ba59-648a218db6ae",
   "metadata": {},
   "outputs": [],
   "source": [
    "train_loader = torch.utils.data.DataLoader(dataset=train_dataset, batch_size=2000, shuffle=True)\n",
    "validation_loader = torch.utils.data.DataLoader(dataset=validation_dataset, batch_size=5000, shuffle=False)"
   ]
  },
  {
   "cell_type": "code",
   "execution_count": 4,
   "id": "a2177212-e7cc-4b31-b43a-cd63bf9f001b",
   "metadata": {},
   "outputs": [
    {
     "name": "stdout",
     "output_type": "stream",
     "text": [
      "1\n",
      "784\n"
     ]
    }
   ],
   "source": [
    "image, label = train_dataset[0]\n",
    "img_shape = image.shape\n",
    "flattened_image = image.view(-1)\n",
    "print(len(image))\n",
    "print(len(flattened_image))"
   ]
  },
  {
   "cell_type": "code",
   "execution_count": 5,
   "id": "b9c7d297-d349-46dc-8eb9-b35a7c4098c4",
   "metadata": {},
   "outputs": [],
   "source": [
    "class DeepNN(nn.Module):\n",
    "    \n",
    "    def __init__(self, Layers):\n",
    "        super(DeepNN, self).__init__()\n",
    "        self.hidden = nn.ModuleList()\n",
    "        for input_size, output_size in zip(Layers, Layers[1:]):\n",
    "            self.hidden.append(nn.Linear(input_size, output_size))\n",
    "    \n",
    "    def forward(self, activation):\n",
    "        L = len(self.hidden)\n",
    "        for (l, linear_transform) in zip(range(L), self.hidden):\n",
    "            if l < L - 1:\n",
    "                activation = torch.relu(linear_transform(activation))\n",
    "            else:\n",
    "                activation = linear_transform(activation)\n",
    "        return activation\n",
    "    \n",
    "    def train(self, model, train_data, criterion, optimizer, epochs):\n",
    "        for epoch in range(epochs):\n",
    "            i = 0\n",
    "            for i, (x, y) in enumerate(train_loader): \n",
    "                optimizer.zero_grad()\n",
    "                z = model(x.view(x.size(0), -1))\n",
    "                loss = criterion(z, y)\n",
    "                loss.backward()\n",
    "                optimizer.step()\n",
    "\n",
    "    def val_acc(self, model, val_data):\n",
    "        correct = 0\n",
    "        for x, y in val_data:\n",
    "            z = model(x.view(x.size(0), -1))\n",
    "            _, label = torch.max(z, 1)\n",
    "            correct += (label == y).sum().item()\n",
    "        return 100 * (correct / len(validation_dataset))"
   ]
  },
  {
   "cell_type": "code",
   "execution_count": 11,
   "id": "2599645a-6057-4dc9-9874-f7a4c33eede2",
   "metadata": {},
   "outputs": [],
   "source": [
    "input_dim = len(flattened_image)\n",
    "Layers = [input_dim, 100, 50, 10]\n",
    "model = DeepNN(Layers)\n",
    "learning_rate = 0.10\n",
    "optimizer = torch.optim.SGD(model.parameters(), lr=learning_rate)\n",
    "criterion = nn.CrossEntropyLoss()\n",
    "model.train(model, train_loader, criterion, optimizer, epochs=30)"
   ]
  },
  {
   "cell_type": "code",
   "execution_count": 13,
   "id": "cdd0085e-4341-43d0-b0f3-603eec3fd659",
   "metadata": {},
   "outputs": [
    {
     "name": "stdout",
     "output_type": "stream",
     "text": [
      "93.26\n"
     ]
    }
   ],
   "source": [
    "print(model.val_acc(model, validation_loader))"
   ]
  },
  {
   "cell_type": "markdown",
   "id": "d4aed994-9b4e-45e6-b70b-8caa5250c2bc",
   "metadata": {},
   "source": [
    "### Deep Neural Network using GPU"
   ]
  },
  {
   "cell_type": "code",
   "execution_count": 14,
   "id": "f6a49690-d49d-44b8-a104-81a75450e217",
   "metadata": {},
   "outputs": [],
   "source": [
    "device = torch.device(\"cuda\" if torch.cuda.is_available() else \"cpu\")"
   ]
  },
  {
   "cell_type": "code",
   "execution_count": 15,
   "id": "ca7264c3-f00a-46b9-995f-7e3626bc87ab",
   "metadata": {},
   "outputs": [
    {
     "name": "stdout",
     "output_type": "stream",
     "text": [
      "True\n"
     ]
    }
   ],
   "source": [
    "# check if gpu works\n",
    "print(torch.cuda.is_available())"
   ]
  },
  {
   "cell_type": "code",
   "execution_count": 16,
   "id": "23ec0fac-c3c8-4922-9e39-812c3f082e8d",
   "metadata": {},
   "outputs": [],
   "source": [
    "class GPUDeepNN(nn.Module):\n",
    "    \n",
    "    def __init__(self, Layers):\n",
    "        super(GPUDeepNN, self).__init__()\n",
    "        self.hidden = nn.ModuleList()\n",
    "        for input_size, output_size in zip(Layers, Layers[1:]):\n",
    "            self.hidden.append(nn.Linear(input_size, output_size))\n",
    "    \n",
    "    def forward(self, activation):\n",
    "        L = len(self.hidden)\n",
    "        for (l, linear_transform) in zip(range(L), self.hidden):\n",
    "            if l < L - 1:\n",
    "                activation = torch.relu(linear_transform(activation))\n",
    "            else:\n",
    "                activation = linear_transform(activation)\n",
    "        return activation\n",
    "    \n",
    "    def train(self, train_data, criterion, optimizer, epochs=100):\n",
    "        self.to(device)  \n",
    "        for epoch in range(epochs):\n",
    "            for i, (x, y) in enumerate(train_data): \n",
    "                x, y = x.to(device), y.to(device)  \n",
    "                \n",
    "                optimizer.zero_grad()\n",
    "                z = self.forward(x.view(x.size(0), -1))\n",
    "                loss = criterion(z, y)\n",
    "                loss.backward()\n",
    "                optimizer.step()\n",
    "\n",
    "    def val_acc(self, val_data):\n",
    "        self.to(device)  \n",
    "        correct = 0\n",
    "        total = 0\n",
    "        with torch.no_grad():\n",
    "            for x, y in val_data:\n",
    "                x, y = x.to(device), y.to(device)  \n",
    "                z = self.forward(x.view(x.size(0), -1))\n",
    "                _, predicted = torch.max(z.data, 1)\n",
    "                total += y.size(0)\n",
    "                correct += (predicted == y).sum().item()\n",
    "        return 100 * (correct / total)"
   ]
  },
  {
   "cell_type": "code",
   "execution_count": 18,
   "id": "d4a9aafb-03b7-4ea2-8c44-44e8863b606c",
   "metadata": {},
   "outputs": [],
   "source": [
    "input_dim = len(flattened_image)\n",
    "Layers = [input_dim, 100, 50, 10]\n",
    "model2 = GPUDeepNN(Layers)\n",
    "learning_rate = 0.10\n",
    "optimizer2 = torch.optim.SGD(model2.parameters(), lr=learning_rate)\n",
    "criterion = nn.CrossEntropyLoss()\n",
    "model2.train(train_loader, criterion, optimizer2, epochs=30)"
   ]
  },
  {
   "cell_type": "code",
   "execution_count": 19,
   "id": "11159ba7-8cee-48d1-8c52-9403f5412f78",
   "metadata": {},
   "outputs": [
    {
     "name": "stdout",
     "output_type": "stream",
     "text": [
      "93.69\n"
     ]
    }
   ],
   "source": [
    "print(model2.val_acc(validation_loader))"
   ]
  }
 ],
 "metadata": {
  "kernelspec": {
   "display_name": "Python 3 (ipykernel)",
   "language": "python",
   "name": "python3"
  },
  "language_info": {
   "codemirror_mode": {
    "name": "ipython",
    "version": 3
   },
   "file_extension": ".py",
   "mimetype": "text/x-python",
   "name": "python",
   "nbconvert_exporter": "python",
   "pygments_lexer": "ipython3",
   "version": "3.12.4"
  }
 },
 "nbformat": 4,
 "nbformat_minor": 5
}
