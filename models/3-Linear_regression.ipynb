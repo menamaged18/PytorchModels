{
 "cells": [
  {
   "cell_type": "code",
   "execution_count": 1,
   "id": "73906eed-4f10-47b4-aad9-08b6164473a4",
   "metadata": {},
   "outputs": [],
   "source": [
    "import torch\n",
    "from torch import nn,optim"
   ]
  },
  {
   "cell_type": "markdown",
   "id": "a1a2da23-f2cd-4826-b386-a5cb36c27ead",
   "metadata": {},
   "source": [
    "# custom model for linear regression"
   ]
  },
  {
   "cell_type": "code",
   "execution_count": 43,
   "id": "4ea4a49a-2314-43f5-b72a-94ec2a565a7c",
   "metadata": {},
   "outputs": [],
   "source": [
    "class linear_regression(nn.Module):\n",
    "    \n",
    "    def __init__(self, input_dim, output_dim):\n",
    "        super(linear_regression, self).__init__()\n",
    "        self.linear = nn.Linear(input_dim, output_dim)\n",
    "\n",
    "    def forward(self, x):\n",
    "        return self.linear(x)\n",
    "    \n",
    "    def r2_score(self, y_true, y_pred):\n",
    "        ss_res = torch.sum((y_true - y_pred) ** 2)\n",
    "        ss_tot = torch.sum((y_true - torch.mean(y_true)) ** 2)\n",
    "        r2 = 1 - ss_res / ss_tot\n",
    "        return r2"
   ]
  },
  {
   "cell_type": "markdown",
   "id": "00ab81d6-7c82-4f63-b7c6-bec72c32d823",
   "metadata": {},
   "source": [
    "# Testing the model"
   ]
  },
  {
   "cell_type": "markdown",
   "id": "d813c01f-29b1-4dcb-8530-57b1bdcbf67c",
   "metadata": {},
   "source": [
    "### libraries"
   ]
  },
  {
   "cell_type": "code",
   "execution_count": 7,
   "id": "d4e4794a-9ca0-46b4-a9f2-d96396f7d9aa",
   "metadata": {},
   "outputs": [],
   "source": [
    "import numpy as np\n",
    "from sklearn.datasets import load_diabetes\n",
    "from sklearn.model_selection import train_test_split\n",
    "from sklearn import linear_model\n",
    "from sklearn.metrics import accuracy_score"
   ]
  },
  {
   "cell_type": "markdown",
   "id": "ebe117ba-8013-4499-ae44-ae7da6b73a0d",
   "metadata": {},
   "source": [
    "### loading the data"
   ]
  },
  {
   "cell_type": "code",
   "execution_count": 10,
   "id": "09f9d2cd-8c37-4db6-a22b-13653d99a7d1",
   "metadata": {},
   "outputs": [],
   "source": [
    "loadDiabetes = load_diabetes()\n",
    "x = loadDiabetes.data\n",
    "y = loadDiabetes.target\n",
    "\n",
    "X = torch.from_numpy(x.astype(np.float32))\n",
    "Y = torch.from_numpy(y.astype(np.float32))\n",
    "# Y = y.view(y.shape[0], 1)\n",
    "\n",
    "X_train, X_test, Y_train, Y_test = train_test_split(X, Y, test_size=0.2, random_state=42)"
   ]
  },
  {
   "cell_type": "code",
   "execution_count": 50,
   "id": "32a6d2ef-628e-404a-a5ed-cd7da1f1b648",
   "metadata": {},
   "outputs": [
    {
     "name": "stdout",
     "output_type": "stream",
     "text": [
      "torch.Size([353, 10])\n"
     ]
    }
   ],
   "source": [
    "print(X_train.shape)\n",
    "n_samples, n_features = X_train.shape\n",
    "\n",
    "# setting the model \n",
    "model = linear_regression(n_features, 1)\n",
    "optimizer = optim.SGD(model.parameters(), lr=0.1)\n",
    "criterion = nn.MSELoss()\n"
   ]
  },
  {
   "cell_type": "code",
   "execution_count": 57,
   "id": "a2c9f476-ff8b-4c54-b3f7-e1676f5dc6b6",
   "metadata": {},
   "outputs": [
    {
     "name": "stdout",
     "output_type": "stream",
     "text": [
      "Epoch [0/1000], Loss: 2928.5632\n",
      "Epoch [100/1000], Loss: 2926.2869\n",
      "Epoch [200/1000], Loss: 2924.1948\n",
      "Epoch [300/1000], Loss: 2922.2710\n",
      "Epoch [400/1000], Loss: 2920.5002\n",
      "Epoch [500/1000], Loss: 2918.8706\n",
      "Epoch [600/1000], Loss: 2917.3689\n",
      "Epoch [700/1000], Loss: 2915.9849\n",
      "Epoch [800/1000], Loss: 2914.7078\n",
      "Epoch [900/1000], Loss: 2913.5286\n",
      "R² score: 0.4588\n"
     ]
    }
   ],
   "source": [
    "# Training the model\n",
    "num_epochs = 1000\n",
    "def train_model(epochs, X, Y):    \n",
    "    for epoch in range(epochs):\n",
    "        yhat = model(X)\n",
    "        loss = criterion(yhat, Y)\n",
    "        optimizer.zero_grad()\n",
    "        loss.backward()\n",
    "        optimizer.step()\n",
    "        if epoch % 100 == 0:\n",
    "            print(f'Epoch [{epoch}/{epochs}], Loss: {loss.item():.4f}')\n",
    "        \n",
    "Y_train = Y_train.view(-1, 1)\n",
    "train_model(num_epochs, X_train, Y_train)\n",
    "\n",
    "with torch.no_grad():  \n",
    "    predictions = model(X_test)\n",
    "    # print(\"\\nPredictions:\", predictions)\n",
    "\n",
    "    # Calculate R² score\n",
    "    Y_test = Y_test.view(-1, 1)\n",
    "    r2 = model.r2_score(Y_test, predictions)\n",
    "    print(f'R² score: {r2.item():.4f}')"
   ]
  },
  {
   "cell_type": "code",
   "execution_count": 26,
   "id": "a413dc15-5d00-4f23-a271-61dc67fa03d8",
   "metadata": {},
   "outputs": [
    {
     "name": "stdout",
     "output_type": "stream",
     "text": [
      "SKLEARN MODEL\n"
     ]
    },
    {
     "data": {
      "text/plain": [
       "0.45260270561590354"
      ]
     },
     "execution_count": 26,
     "metadata": {},
     "output_type": "execute_result"
    }
   ],
   "source": [
    "from sklearn.linear_model import LinearRegression\n",
    "print(\"SKLEARN MODEL\")\n",
    "reg = LinearRegression().fit(X_train, Y_train)\n",
    "reg.score(X_test, Y_test)"
   ]
  }
 ],
 "metadata": {
  "kernelspec": {
   "display_name": "Python 3 (ipykernel)",
   "language": "python",
   "name": "python3"
  },
  "language_info": {
   "codemirror_mode": {
    "name": "ipython",
    "version": 3
   },
   "file_extension": ".py",
   "mimetype": "text/x-python",
   "name": "python",
   "nbconvert_exporter": "python",
   "pygments_lexer": "ipython3",
   "version": "3.12.4"
  }
 },
 "nbformat": 4,
 "nbformat_minor": 5
}
