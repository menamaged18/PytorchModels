{
 "cells": [
  {
   "cell_type": "code",
   "execution_count": 1,
   "id": "08d793da-d5d4-4ff4-9e85-6d0dd8572760",
   "metadata": {},
   "outputs": [],
   "source": [
    "import torch \n",
    "import torch.nn as nn\n",
    "import torchvision.transforms as transforms\n",
    "import torchvision.datasets as dsets\n",
    "import numpy as np"
   ]
  },
  {
   "cell_type": "markdown",
   "id": "328e001c-3de4-4061-9a43-49ad61c0247e",
   "metadata": {},
   "source": [
    "# loading the data"
   ]
  },
  {
   "cell_type": "code",
   "execution_count": 9,
   "id": "5f5cfc63-188b-4323-9436-c1a3affecdd4",
   "metadata": {},
   "outputs": [],
   "source": [
    "composed = transforms.Compose([transforms.Resize((16, 16)), transforms.ToTensor()])"
   ]
  },
  {
   "cell_type": "code",
   "execution_count": 10,
   "id": "32ad4991-c64d-43f8-a2ef-4f8ad32fad43",
   "metadata": {},
   "outputs": [],
   "source": [
    "train_dataset = dsets.MNIST(root='./data', train=True, download=True, transform=composed)\n",
    "validation_dataset = dsets.MNIST(root='./data', train=False, download=True, transform=composed)"
   ]
  },
  {
   "cell_type": "code",
   "execution_count": 14,
   "id": "d63f6519-1045-49c2-83d2-ccda65605367",
   "metadata": {},
   "outputs": [],
   "source": [
    "train_loader = torch.utils.data.DataLoader(dataset=train_dataset, batch_size=100, shuffle=True)\n",
    "validation_loader = torch.utils.data.DataLoader(dataset=validation_dataset, batch_size=5000, shuffle=False)"
   ]
  },
  {
   "cell_type": "code",
   "execution_count": 15,
   "id": "b092d217-fb2e-4905-a8a7-fe061acb024a",
   "metadata": {},
   "outputs": [
    {
     "name": "stdout",
     "output_type": "stream",
     "text": [
      "1\n",
      "256\n"
     ]
    }
   ],
   "source": [
    "image, label = train_dataset[0]\n",
    "img_shape = image.shape\n",
    "flattened_image = image.view(-1)\n",
    "print(len(image))\n",
    "print(len(flattened_image))"
   ]
  },
  {
   "cell_type": "markdown",
   "id": "963a28dd-287a-44ae-977f-0228af011ea0",
   "metadata": {},
   "source": [
    "# CNN with 2 convolution layer"
   ]
  },
  {
   "cell_type": "code",
   "execution_count": 17,
   "id": "106be783-a70c-44a3-8e77-babfa524947b",
   "metadata": {},
   "outputs": [],
   "source": [
    "class CNN(nn.Module):\n",
    "    \n",
    "    def __init__(self, out_1=16, out_2=32):\n",
    "        super(CNN, self).__init__()\n",
    "        self.cnn1 = nn.Conv2d(in_channels=1, out_channels=out_1, kernel_size=5, padding=2)\n",
    "        self.maxpool1=nn.MaxPool2d(kernel_size=2)\n",
    "\n",
    "        self.cnn2 = nn.Conv2d(in_channels=out_1, out_channels=out_2, kernel_size=5, stride=1, padding=2)\n",
    "        self.maxpool2=nn.MaxPool2d(kernel_size=2)\n",
    "        self.fc1 = nn.Linear(out_2 * 4 * 4, 10)\n",
    "    \n",
    "    def forward(self, x):\n",
    "        x = self.cnn1(x)\n",
    "        x = torch.relu(x)\n",
    "        x = self.maxpool1(x)\n",
    "        x = self.cnn2(x)\n",
    "        x = torch.relu(x)\n",
    "        x = self.maxpool2(x)\n",
    "        x = x.view(x.size(0), -1)\n",
    "        x = self.fc1(x)\n",
    "        return x\n",
    "    \n",
    "    def train(self, model, train_data, criterion, optimizer, epochs):\n",
    "        for epoch in range(epochs):\n",
    "            i = 0\n",
    "            for i, (x, y) in enumerate(train_loader): \n",
    "                optimizer.zero_grad()\n",
    "                z = model(x)\n",
    "                loss = criterion(z, y)\n",
    "                loss.backward()\n",
    "                optimizer.step()\n",
    "\n",
    "    def val_acc(self, model, val_data):\n",
    "        correct = 0\n",
    "        for x, y in val_data:\n",
    "            z = model(x)\n",
    "            _, label = torch.max(z, 1)\n",
    "            correct += (label == y).sum().item()\n",
    "        return 100 * (correct / len(validation_dataset))"
   ]
  },
  {
   "cell_type": "code",
   "execution_count": 18,
   "id": "4fb12099-a4ee-4f34-80e4-60c93a9623be",
   "metadata": {},
   "outputs": [],
   "source": [
    "model = CNN(out_1=16, out_2=32)\n",
    "criterion = nn.CrossEntropyLoss()\n",
    "learning_rate = 0.1\n",
    "optimizer = torch.optim.SGD(model.parameters(), lr = learning_rate)\n",
    "model.train(model, train_loader, criterion, optimizer, epochs=10)"
   ]
  },
  {
   "cell_type": "code",
   "execution_count": 19,
   "id": "3c0fb0b7-2d69-409e-9ac4-c609f4161249",
   "metadata": {},
   "outputs": [
    {
     "name": "stdout",
     "output_type": "stream",
     "text": [
      "98.64\n"
     ]
    }
   ],
   "source": [
    "print(model.val_acc(model, validation_loader))"
   ]
  }
 ],
 "metadata": {
  "kernelspec": {
   "display_name": "Python 3 (ipykernel)",
   "language": "python",
   "name": "python3"
  },
  "language_info": {
   "codemirror_mode": {
    "name": "ipython",
    "version": 3
   },
   "file_extension": ".py",
   "mimetype": "text/x-python",
   "name": "python",
   "nbconvert_exporter": "python",
   "pygments_lexer": "ipython3",
   "version": "3.12.4"
  }
 },
 "nbformat": 4,
 "nbformat_minor": 5
}
