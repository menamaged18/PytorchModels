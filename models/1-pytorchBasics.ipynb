{
 "cells": [
  {
   "cell_type": "code",
   "execution_count": 1,
   "id": "cccbdb42-a13a-44c1-8515-656056dd7486",
   "metadata": {},
   "outputs": [],
   "source": [
    "import torch"
   ]
  },
  {
   "cell_type": "markdown",
   "id": "b1c8cd09-57ff-4c36-a4f1-1aeefbbec669",
   "metadata": {},
   "source": [
    "### torch.rand used to generate torch(array) with random values"
   ]
  },
  {
   "cell_type": "code",
   "execution_count": 2,
   "id": "7acf350a-b6e4-44d9-bc6c-aa9296797b04",
   "metadata": {},
   "outputs": [],
   "source": [
    "x = torch.rand(3)"
   ]
  },
  {
   "cell_type": "code",
   "execution_count": 3,
   "id": "bf9ef21c-f4a5-4d95-b7bc-c2034f818201",
   "metadata": {},
   "outputs": [
    {
     "name": "stdout",
     "output_type": "stream",
     "text": [
      "tensor([0.4925, 0.9785, 0.2985])\n"
     ]
    }
   ],
   "source": [
    "print(x)"
   ]
  },
  {
   "cell_type": "markdown",
   "id": "f207fdea-a34f-40e1-bee8-3033e75d4967",
   "metadata": {},
   "source": [
    "we can intialize torch with differnt sizes"
   ]
  },
  {
   "cell_type": "code",
   "execution_count": 5,
   "id": "79180706-e028-4312-a62b-4dc609f0454a",
   "metadata": {},
   "outputs": [
    {
     "name": "stdout",
     "output_type": "stream",
     "text": [
      "tensor([[0.2261, 0.2234, 0.1478],\n",
      "        [0.6433, 0.0572, 0.2219],\n",
      "        [0.1493, 0.1769, 0.2544]])\n"
     ]
    }
   ],
   "source": [
    "x = torch.rand(3,3)\n",
    "print(x)"
   ]
  },
  {
   "cell_type": "markdown",
   "id": "10d010ae-545c-4939-bb68-621abfc0e68d",
   "metadata": {},
   "source": [
    "torch.empty() used to intialize torch with no values"
   ]
  },
  {
   "cell_type": "code",
   "execution_count": 6,
   "id": "a635645b-8098-4761-ad40-7b1e52038a03",
   "metadata": {},
   "outputs": [
    {
     "name": "stdout",
     "output_type": "stream",
     "text": [
      "tensor([-1.9549e-03,  1.4503e-42,  0.0000e+00])\n"
     ]
    }
   ],
   "source": [
    "x = torch.empty(3)\n",
    "print(x)"
   ]
  },
  {
   "cell_type": "markdown",
   "id": "8267199e-b0b8-4fb7-ad0c-0ee3a142cb6a",
   "metadata": {},
   "source": [
    "torch.zeros() fills the torch with zeros\n",
    "torch.ones() fills the torch with ones"
   ]
  },
  {
   "cell_type": "code",
   "execution_count": 7,
   "id": "79e9630c-063e-4264-aaae-08731db54a79",
   "metadata": {},
   "outputs": [
    {
     "name": "stdout",
     "output_type": "stream",
     "text": [
      "tensor([[0., 0.],\n",
      "        [0., 0.]])\n",
      "tensor([[[1., 1., 1.],\n",
      "         [1., 1., 1.],\n",
      "         [1., 1., 1.]],\n",
      "\n",
      "        [[1., 1., 1.],\n",
      "         [1., 1., 1.],\n",
      "         [1., 1., 1.]],\n",
      "\n",
      "        [[1., 1., 1.],\n",
      "         [1., 1., 1.],\n",
      "         [1., 1., 1.]]])\n"
     ]
    }
   ],
   "source": [
    "zeros = torch.zeros(2,2)\n",
    "ones = torch.ones(3,3,3)\n",
    "print(zeros)\n",
    "print(ones)"
   ]
  },
  {
   "cell_type": "markdown",
   "id": "6eee065c-cb2e-43a4-a07c-b1dd5cc1bf37",
   "metadata": {},
   "source": [
    "dtype is used to know the type\n",
    "by defualt the data type is float32"
   ]
  },
  {
   "cell_type": "code",
   "execution_count": 8,
   "id": "bb1bba26-9652-4e5d-b05f-e21c719f22c6",
   "metadata": {},
   "outputs": [
    {
     "name": "stdout",
     "output_type": "stream",
     "text": [
      "torch.float32\n"
     ]
    }
   ],
   "source": [
    "print(x.dtype)"
   ]
  },
  {
   "cell_type": "markdown",
   "id": "2fd0ce28-d7cc-4d46-a6c4-51200f86c75e",
   "metadata": {},
   "source": [
    "we can spcify a certain type to the torch for example: dtype=torch.int"
   ]
  },
  {
   "cell_type": "code",
   "execution_count": 9,
   "id": "1f0a130c-a2d1-47ce-843b-28116ebc3769",
   "metadata": {},
   "outputs": [
    {
     "name": "stdout",
     "output_type": "stream",
     "text": [
      "torch.int32\n"
     ]
    }
   ],
   "source": [
    "x = torch.ones(2,2, dtype=torch.int)\n",
    "print(x.dtype)"
   ]
  },
  {
   "cell_type": "markdown",
   "id": "6770e8a1-2014-4e41-ac70-659e76a1b246",
   "metadata": {},
   "source": [
    "### .size() used to know the size of the torch"
   ]
  },
  {
   "cell_type": "code",
   "execution_count": 10,
   "id": "e5dd4982-e1ff-4f9e-8c73-b50ebf45d57c",
   "metadata": {},
   "outputs": [
    {
     "name": "stdout",
     "output_type": "stream",
     "text": [
      "torch.Size([2, 2])\n"
     ]
    }
   ],
   "source": [
    "print(x.size())"
   ]
  },
  {
   "cell_type": "markdown",
   "id": "77a00b2a-77bc-487f-b346-7869c414e51d",
   "metadata": {},
   "source": [
    "### to add two tensors"
   ]
  },
  {
   "cell_type": "code",
   "execution_count": 11,
   "id": "d059ab95-be9b-44c0-b2f6-5524fe5fe7de",
   "metadata": {},
   "outputs": [
    {
     "name": "stdout",
     "output_type": "stream",
     "text": [
      "tensor([[0.8978, 0.2639],\n",
      "        [1.5585, 0.7205]])\n",
      "tensor([[0.8978, 0.2639],\n",
      "        [1.5585, 0.7205]])\n"
     ]
    }
   ],
   "source": [
    "x = torch.rand(2,2)\n",
    "y = torch.rand(2,2)\n",
    "z1 = x + y \n",
    "# orrrrrrrrr\n",
    "z2 = torch.add(x,y)\n",
    "# the result will be the same\n",
    "print(z1)\n",
    "print(z2)"
   ]
  },
  {
   "cell_type": "markdown",
   "id": "79f6a42d-6b2c-4987-bce2-aefb3247ac75",
   "metadata": {},
   "source": [
    "y.add_(x) used to modify the values of y to (y + x) inplace"
   ]
  },
  {
   "cell_type": "code",
   "execution_count": 12,
   "id": "a172414f-3193-4e15-b28a-60e5ea3c675a",
   "metadata": {},
   "outputs": [
    {
     "name": "stdout",
     "output_type": "stream",
     "text": [
      "y before addition tensor([[0.0433, 0.0225],\n",
      "        [0.6716, 0.0155]])\n",
      "y after addition tensor([[0.8978, 0.2639],\n",
      "        [1.5585, 0.7205]])\n"
     ]
    }
   ],
   "source": [
    "print(\"y before addition\",y)\n",
    "y.add_(x)\n",
    "print(\"y after addition\",y)"
   ]
  },
  {
   "cell_type": "markdown",
   "id": "d59c1b4a-14df-456c-9579-a9a637e33ada",
   "metadata": {},
   "source": [
    "### subtract will be the similar to addition"
   ]
  },
  {
   "cell_type": "code",
   "execution_count": 15,
   "id": "0b4a6ef1-060f-4388-bb3f-19e1455a1d99",
   "metadata": {},
   "outputs": [
    {
     "name": "stdout",
     "output_type": "stream",
     "text": [
      "tensor([[-0.0994, -0.1993],\n",
      "        [-0.1569,  0.0103]])\n",
      "tensor([[-0.0994, -0.1993],\n",
      "        [-0.1569,  0.0103]])\n",
      "y before subtraction tensor([[0.7292, 0.7361],\n",
      "        [0.1151, 0.2978]])\n",
      "y after subtraction tensor([[-0.0994, -0.1993],\n",
      "        [-0.1569,  0.0103]])\n"
     ]
    }
   ],
   "source": [
    "x = torch.rand(2,2)\n",
    "y = torch.rand(2,2)\n",
    "z1 = y - x \n",
    "# orrrrrrrrr\n",
    "z2 = torch.sub(y,x)\n",
    "# the result will be the same\n",
    "print(z1)\n",
    "print(z2)\n",
    "print(\"y before subtraction\",y)\n",
    "y.sub_(x)\n",
    "print(\"y after subtraction\",y)"
   ]
  },
  {
   "cell_type": "markdown",
   "id": "39ec01c7-624f-4a90-bb2e-e0dd3055420f",
   "metadata": {},
   "source": [
    "### multiplication in pytorch"
   ]
  },
  {
   "cell_type": "code",
   "execution_count": 22,
   "id": "57af156e-4632-4dd9-8b33-d065e0529d34",
   "metadata": {},
   "outputs": [
    {
     "name": "stdout",
     "output_type": "stream",
     "text": [
      "torch.mul(y,x)  tensor([[0.8786, 0.6150],\n",
      "        [0.0873, 0.1977]])\n",
      "y * x tensor([[0.8786, 0.6150],\n",
      "        [0.0873, 0.1977]])\n",
      "y before multiplication tensor([[0.9591, 0.9606],\n",
      "        [0.3273, 0.9274]])\n",
      "y after multiplication tensor([[0.8786, 0.6150],\n",
      "        [0.0873, 0.1977]])\n"
     ]
    }
   ],
   "source": [
    "x = torch.rand(2,2)\n",
    "y = torch.rand(2,2) \n",
    "z1 = torch.mul(y,x)\n",
    "print(\"torch.mul(y,x) \",z1)\n",
    "z2 = x * y\n",
    "print(\"y * x\", z2)\n",
    "print(\"y before multiplication\",y)\n",
    "# inplace y \n",
    "y.mul_(x)\n",
    "print(\"y after multiplication\",y)"
   ]
  },
  {
   "cell_type": "markdown",
   "id": "c1568a90-5a2b-4403-83c0-0a3d56e50aa7",
   "metadata": {},
   "source": [
    "### division"
   ]
  },
  {
   "cell_type": "code",
   "execution_count": 20,
   "id": "e20be95a-a385-4475-90bf-8ce45b65de56",
   "metadata": {},
   "outputs": [
    {
     "name": "stdout",
     "output_type": "stream",
     "text": [
      "tensor([[5.2843, 0.4428],\n",
      "        [0.7179, 1.8030]])\n",
      "tensor([[5.2843, 0.4428],\n",
      "        [0.7179, 1.8030]])\n",
      "y before division tensor([[0.5908, 0.3676],\n",
      "        [0.6815, 0.8736]])\n",
      "y after division tensor([[5.2843, 0.4428],\n",
      "        [0.7179, 1.8030]])\n"
     ]
    }
   ],
   "source": [
    "x = torch.rand(2,2)\n",
    "y = torch.rand(2,2) \n",
    "z1 = torch.div(y,x)\n",
    "print(z1)\n",
    "z2 = y/x\n",
    "print(z2)\n",
    "print(\"y before division\",y)\n",
    "# inplace y \n",
    "y.div_(x)\n",
    "print(\"y after division\",y)"
   ]
  },
  {
   "cell_type": "code",
   "execution_count": 21,
   "id": "3650ee07-65dd-4866-810c-b4df8457d94e",
   "metadata": {},
   "outputs": [
    {
     "name": "stdout",
     "output_type": "stream",
     "text": [
      "torch.mul(y,x)  tensor([[0.3317, 0.0439],\n",
      "        [0.1589, 0.0041]])\n",
      "y * x tensor([[0.3317, 0.0439],\n",
      "        [0.1589, 0.0041]])\n"
     ]
    }
   ],
   "source": [
    "x = torch.rand(2,2)\n",
    "y = torch.rand(2,2) \n",
    "z1 = torch.mul(y,x)\n",
    "print(\"torch.mul(y,x) \",z1)\n",
    "z2 = x * y\n",
    "print(\"y * x\", z2)"
   ]
  },
  {
   "cell_type": "markdown",
   "id": "b9c2e45a-caf1-4866-9ef9-5d480b50d6a6",
   "metadata": {},
   "source": [
    "## slicing"
   ]
  },
  {
   "cell_type": "code",
   "execution_count": 26,
   "id": "2b04d947-40fd-4292-9af9-242525cafbd1",
   "metadata": {},
   "outputs": [
    {
     "name": "stdout",
     "output_type": "stream",
     "text": [
      "tensor([[0.2943, 0.7123, 0.0922],\n",
      "        [0.9528, 0.8552, 0.7189],\n",
      "        [0.6934, 0.5603, 0.7513],\n",
      "        [0.1757, 0.2859, 0.0901],\n",
      "        [0.0851, 0.1350, 0.9132]])\n",
      "tensor([0.2943, 0.9528, 0.6934, 0.1757, 0.0851])\n",
      "tensor([0.9528, 0.8552, 0.7189])\n",
      "tensor(0.8552)\n",
      "0.8551594018936157\n"
     ]
    }
   ],
   "source": [
    "x = torch.rand(5,3)\n",
    "print(x)\n",
    "# all rows but only the column zero\n",
    "print(x[:, 0])\n",
    "# all columns but row number 1\n",
    "print(x[1, :])\n",
    "# getting one element\n",
    "print(x[1,1])\n",
    "# .item() used to get the value \n",
    "print(x[1,1].item())"
   ]
  },
  {
   "cell_type": "markdown",
   "id": "ffcc8ecb-101c-4026-9292-117d63b4b161",
   "metadata": {},
   "source": [
    "### reshaping"
   ]
  },
  {
   "cell_type": "code",
   "execution_count": 28,
   "id": "8301d44c-d05f-411c-ba24-1e9d0e6716f2",
   "metadata": {},
   "outputs": [
    {
     "name": "stdout",
     "output_type": "stream",
     "text": [
      "tensor([[0.3743, 0.0719, 0.5255, 0.3576],\n",
      "        [0.8095, 0.8874, 0.6651, 0.0505],\n",
      "        [0.4099, 0.3033, 0.3814, 0.7799],\n",
      "        [0.4221, 0.4243, 0.3112, 0.4511]])\n",
      "tensor([0.3743, 0.0719, 0.5255, 0.3576, 0.8095, 0.8874, 0.6651, 0.0505, 0.4099,\n",
      "        0.3033, 0.3814, 0.7799, 0.4221, 0.4243, 0.3112, 0.4511])\n",
      "tensor([0.3743, 0.0719, 0.5255, 0.3576, 0.8095, 0.8874, 0.6651, 0.0505, 0.4099,\n",
      "        0.3033, 0.3814, 0.7799, 0.4221, 0.4243, 0.3112, 0.4511])\n"
     ]
    }
   ],
   "source": [
    "x = torch.rand(4,4)\n",
    "print(x)\n",
    "y = x.view(16) # number of elements must be the same\n",
    "print(y)\n",
    "# inplace reshaping \n",
    "print(x.reshape(16))"
   ]
  },
  {
   "cell_type": "markdown",
   "id": "4cdd9822-0ee7-4d20-b5ed-6e0598b17ea2",
   "metadata": {},
   "source": [
    "if we don't want 1 dimension so we can do"
   ]
  },
  {
   "cell_type": "code",
   "execution_count": 31,
   "id": "2a57dad1-28a7-4847-a823-38a00f4e6efd",
   "metadata": {},
   "outputs": [
    {
     "name": "stdout",
     "output_type": "stream",
     "text": [
      "tensor([[0.9072, 0.3605, 0.6097, 0.5635],\n",
      "        [0.8124, 0.0701, 0.3118, 0.9063],\n",
      "        [0.6803, 0.5625, 0.9576, 0.0460],\n",
      "        [0.8683, 0.0341, 0.2139, 0.0769]])\n",
      "tensor([[0.9072, 0.3605, 0.6097, 0.5635, 0.8124, 0.0701, 0.3118, 0.9063],\n",
      "        [0.6803, 0.5625, 0.9576, 0.0460, 0.8683, 0.0341, 0.2139, 0.0769]])\n",
      "torch.Size([2, 8])\n",
      "tensor([[0.9072, 0.3605],\n",
      "        [0.6097, 0.5635],\n",
      "        [0.8124, 0.0701],\n",
      "        [0.3118, 0.9063],\n",
      "        [0.6803, 0.5625],\n",
      "        [0.9576, 0.0460],\n",
      "        [0.8683, 0.0341],\n",
      "        [0.2139, 0.0769]])\n",
      "torch.Size([8, 2])\n"
     ]
    }
   ],
   "source": [
    "x = torch.rand(4,4)\n",
    "print(x)\n",
    "y = x.view(-1,8) # and pytorch will do it automatically determine the right size\n",
    "print(y)\n",
    "print(y.size())\n",
    "m = x.view(-1,2)\n",
    "print(m)\n",
    "print(m.size())"
   ]
  },
  {
   "cell_type": "markdown",
   "id": "e92665a6-ca42-4cfd-8ba1-def404e3a97b",
   "metadata": {},
   "source": [
    "## converting from numpy to tensors and vise versa"
   ]
  },
  {
   "cell_type": "code",
   "execution_count": 32,
   "id": "d356b26e-fa1f-4980-9d6f-c3964090ea1f",
   "metadata": {},
   "outputs": [],
   "source": [
    "import numpy as np"
   ]
  },
  {
   "cell_type": "code",
   "execution_count": 39,
   "id": "9ae0976f-ffbf-41df-a8c8-a1d301a8420d",
   "metadata": {},
   "outputs": [
    {
     "name": "stdout",
     "output_type": "stream",
     "text": [
      "from tensor to numpy\n",
      "the tensor is:  tensor([1., 1., 1., 1., 1.])\n",
      "the numpy array is:  [1. 1. 1. 1. 1.]\n",
      "a after adding:  tensor([2., 2., 2., 2., 2.])\n",
      "b after adding:  [2. 2. 2. 2. 2.]\n",
      "##########################################\n",
      "from numpy to tensor\n",
      "[1. 1. 1. 1. 1.]\n",
      "tensor([1., 1., 1., 1., 1.], dtype=torch.float64)\n",
      "numpyArray after adding:  tensor([2., 2., 2., 2., 2.])\n",
      "tensor after adding:  [2. 2. 2. 2. 2.]\n"
     ]
    }
   ],
   "source": [
    "#### from tensor to numpy\n",
    "print(\"from tensor to numpy\")\n",
    "a = torch.ones(5)\n",
    "print(\"the tensor is: \",a)\n",
    "b = a.numpy()\n",
    "print(\"the numpy array is: \", b)\n",
    "## if we are at cpu and change the tensor a -> b will be effect \n",
    "## because they share the same memory location\n",
    "a.add_(1)\n",
    "print(\"a after adding: \",a)\n",
    "print(\"b after adding: \", b)\n",
    "\n",
    "print(\"##########################################\")\n",
    "### from numpy to tensor\n",
    "print(\"from numpy to tensor\")\n",
    "numpyArray = np.ones(5)\n",
    "print(numpyArray)\n",
    "trch = torch.from_numpy(numpyArray)\n",
    "print(trch)\n",
    "## and also we must be careful that if we modify one the other will be modified\n",
    "numpyArray +=1\n",
    "print(\"numpyArray after adding: \",a)\n",
    "print(\"tensor after adding: \", b)"
   ]
  },
  {
   "cell_type": "markdown",
   "id": "423c80e1-6e97-45a7-a4e8-76de5066b151",
   "metadata": {},
   "source": [
    "## using GPU"
   ]
  },
  {
   "cell_type": "code",
   "execution_count": 42,
   "id": "630388d0-248b-4cb4-89da-3cbcab5aa602",
   "metadata": {},
   "outputs": [
    {
     "name": "stdout",
     "output_type": "stream",
     "text": [
      "tensor([0., 0., 0., 0., 0.], device='cuda:0')\n",
      "<class 'torch.Tensor'>\n"
     ]
    }
   ],
   "source": [
    "if torch.cuda.is_available():\n",
    "    gpu_device = torch.device(\"cuda\")\n",
    "    x = torch.ones(5, device = gpu_device)\n",
    "    y = torch.ones(5)\n",
    "    y = y.to(gpu_device) # to use y in gpu\n",
    "    z = x - y\n",
    "    print(z)\n",
    "    print(type(z))\n",
    "    # z.numpy() it won't work because numpy can handle cpu tensors only \n",
    "    #### we have to convert it to cpu tensor \n",
    "    # z = z.to(\"cpu\")\n",
    "    # z.numpy()"
   ]
  },
  {
   "cell_type": "markdown",
   "id": "0f0afbee-7e58-4d57-9e2c-3bd78ea91265",
   "metadata": {},
   "source": [
    "### requires_grad attribute"
   ]
  },
  {
   "cell_type": "code",
   "execution_count": 43,
   "id": "02b31719-4374-4c2a-881e-4ba446bdba8f",
   "metadata": {},
   "outputs": [
    {
     "name": "stdout",
     "output_type": "stream",
     "text": [
      "tensor([1., 1., 1., 1., 1.], requires_grad=True)\n"
     ]
    }
   ],
   "source": [
    "x = torch.ones(5, requires_grad=True)\n",
    "print(x)\n",
    "# requires_grad will tell the pytorch that we need to calculate the gradient \n",
    "# for this tensor later and we use it in an optimization steps problems\n",
    " "
   ]
  }
 ],
 "metadata": {
  "kernelspec": {
   "display_name": "Python 3 (ipykernel)",
   "language": "python",
   "name": "python3"
  },
  "language_info": {
   "codemirror_mode": {
    "name": "ipython",
    "version": 3
   },
   "file_extension": ".py",
   "mimetype": "text/x-python",
   "name": "python",
   "nbconvert_exporter": "python",
   "pygments_lexer": "ipython3",
   "version": "3.12.4"
  }
 },
 "nbformat": 4,
 "nbformat_minor": 5
}
