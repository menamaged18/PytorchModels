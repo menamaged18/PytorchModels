{
 "cells": [
  {
   "cell_type": "code",
   "execution_count": 1,
   "id": "60a062d6-b9ce-4d92-83a9-820f4f38ca5c",
   "metadata": {},
   "outputs": [],
   "source": [
    "import torch\n",
    "from torch import nn,optim"
   ]
  },
  {
   "cell_type": "code",
   "execution_count": 22,
   "id": "344f731c-2547-428e-99c2-da490fc2f856",
   "metadata": {},
   "outputs": [],
   "source": [
    "class logistic_regression(nn.Module):\n",
    "    def __init__(self, input_dim, output_dim):\n",
    "        super(logistic_regression, self).__init__()\n",
    "        self.linear = nn.Linear(input_dim, output_dim)\n",
    "        self.thereshold = 0.5\n",
    "        \n",
    "    def forward(self, x):\n",
    "        yhat = torch.sigmoid(self.linear(x))\n",
    "        return yhat\n",
    "    \n",
    "    def predict(self, X):\n",
    "        predictions = self.forward(X)\n",
    "        return torch.where(predictions > self.thereshold, 1, 0)\n",
    "    \n",
    "    def accuracy(self, x_test, y_test):\n",
    "        y_pred = self.predict(x_test)\n",
    "        label = y_pred > 0.5\n",
    "        return torch.mean((label == y_test.type(torch.ByteTensor)).type(torch.float))"
   ]
  },
  {
   "cell_type": "code",
   "execution_count": 7,
   "id": "1b0534b0-81ba-462f-a5d6-e30d1b482d7d",
   "metadata": {},
   "outputs": [],
   "source": [
    "import numpy as np\n",
    "from sklearn.datasets import load_iris\n",
    "from sklearn.linear_model import LogisticRegression\n",
    "from sklearn.model_selection import train_test_split\n",
    "from sklearn.utils import shuffle\n",
    "from sklearn.metrics import accuracy_score"
   ]
  },
  {
   "cell_type": "markdown",
   "id": "06a31395-dad4-4ab6-86a7-1f353192a542",
   "metadata": {},
   "source": [
    "### preparing the data"
   ]
  },
  {
   "cell_type": "code",
   "execution_count": 27,
   "id": "a11b657b-5eec-45ce-b597-ac1be9a4436d",
   "metadata": {},
   "outputs": [],
   "source": [
    "# Load Iris dataset\n",
    "iris = load_iris()\n",
    "_x = iris.data\n",
    "_y = iris.target\n",
    "\n",
    "# making the first flower class 0 and the second and third flower of class 1\n",
    "_y[50:150] = 1\n",
    "# stacking the new data together to use it for shuffling later\n",
    "data = np.column_stack((_x, _y))\n",
    "shufled_data = shuffle(data)\n",
    "\n",
    "# new data after shuffling\n",
    "x = shufled_data[:, 0:4]\n",
    "y = shufled_data[:, 4]\n",
    "\n",
    "# convert to tensors\n",
    "X = torch.from_numpy(x.astype(np.float32))\n",
    "Y = torch.from_numpy(y.astype(np.float32))\n",
    "\n",
    "X_train, X_test, Y_train, Y_test = train_test_split(X, Y, test_size=0.3, random_state=42)"
   ]
  },
  {
   "cell_type": "markdown",
   "id": "cf34dc30-8ba9-4e7b-b90c-6decf707dbc5",
   "metadata": {},
   "source": [
    "### setting the model"
   ]
  },
  {
   "cell_type": "code",
   "execution_count": 25,
   "id": "1504af6a-a6e3-4c6b-a5a1-4165ed2cd7c2",
   "metadata": {},
   "outputs": [
    {
     "name": "stdout",
     "output_type": "stream",
     "text": [
      "torch.Size([105, 4])\n"
     ]
    }
   ],
   "source": [
    "print(X_train.shape)\n",
    "n_samples, n_features = X_train.shape\n",
    "\n",
    "# setting up the model \n",
    "model = logistic_regression(n_features, 1)\n",
    "optimizer = optim.SGD(model.parameters(), lr=0.1)\n",
    "criterion = nn.BCELoss()"
   ]
  },
  {
   "cell_type": "markdown",
   "id": "acd55ce5-ec82-4d12-873c-36d39e7f1dfb",
   "metadata": {},
   "source": [
    "### training the model"
   ]
  },
  {
   "cell_type": "code",
   "execution_count": 30,
   "id": "f63ce941-a607-4a35-a8c7-f6729447b84d",
   "metadata": {},
   "outputs": [
    {
     "name": "stdout",
     "output_type": "stream",
     "text": [
      "Epoch [0/1000], Loss: 0.0028\n",
      "Epoch [100/1000], Loss: 0.0027\n",
      "Epoch [200/1000], Loss: 0.0026\n",
      "Epoch [300/1000], Loss: 0.0025\n",
      "Epoch [400/1000], Loss: 0.0025\n",
      "Epoch [500/1000], Loss: 0.0024\n",
      "Epoch [600/1000], Loss: 0.0023\n",
      "Epoch [700/1000], Loss: 0.0023\n",
      "Epoch [800/1000], Loss: 0.0022\n",
      "Epoch [900/1000], Loss: 0.0022\n",
      "accuracy: 1.0000\n"
     ]
    }
   ],
   "source": [
    "num_epochs = 1000\n",
    "def train_model(epochs, X, Y):    \n",
    "    for epoch in range(epochs):\n",
    "        yhat = model(X)\n",
    "        loss = criterion(yhat, Y)\n",
    "        optimizer.zero_grad()\n",
    "        loss.backward()\n",
    "        optimizer.step()\n",
    "        if epoch % 100 == 0:\n",
    "            print(f'Epoch [{epoch}/{epochs}], Loss: {loss.item():.4f}')\n",
    "        \n",
    "Y_train = Y_train.view(-1, 1)\n",
    "train_model(num_epochs, X_train, Y_train)\n",
    "\n",
    "# print(type(X_test))\n",
    "with torch.no_grad():\n",
    "    predictions = model.predict(X_test)\n",
    "    # print(\"predictions: \", predictions)\n",
    "    \n",
    "    # Calculate accuracy \n",
    "    Y_test = Y_test.view(-1, 1)\n",
    "    # print(\"Y_test: \", Y_test)\n",
    "    acc = model.accuracy(X_test, Y_test)  \n",
    "    print(f'accuracy: {acc.item():.4f}')"
   ]
  },
  {
   "cell_type": "code",
   "execution_count": 33,
   "id": "269e1174-b5d1-4292-a4f2-331dc3c5c14a",
   "metadata": {},
   "outputs": [
    {
     "name": "stdout",
     "output_type": "stream",
     "text": [
      "SKLEARN MODEL\n",
      "Accuracy: 1.0000\n"
     ]
    },
    {
     "name": "stderr",
     "output_type": "stream",
     "text": [
      "C:\\Users\\menam\\anaconda3\\Lib\\site-packages\\sklearn\\utils\\validation.py:1300: DataConversionWarning: A column-vector y was passed when a 1d array was expected. Please change the shape of y to (n_samples, ), for example using ravel().\n",
      "  y = column_or_1d(y, warn=True)\n"
     ]
    }
   ],
   "source": [
    "print(\"SKLEARN MODEL\")\n",
    "model = LogisticRegression()\n",
    "model.fit(X_train, Y_train)\n",
    "\n",
    "y_pred = model.predict(X_test)\n",
    "\n",
    "accuracy = accuracy_score(Y_test, y_pred)\n",
    "print(f'Accuracy: {accuracy:.4f}')"
   ]
  }
 ],
 "metadata": {
  "kernelspec": {
   "display_name": "Python 3 (ipykernel)",
   "language": "python",
   "name": "python3"
  },
  "language_info": {
   "codemirror_mode": {
    "name": "ipython",
    "version": 3
   },
   "file_extension": ".py",
   "mimetype": "text/x-python",
   "name": "python",
   "nbconvert_exporter": "python",
   "pygments_lexer": "ipython3",
   "version": "3.12.4"
  }
 },
 "nbformat": 4,
 "nbformat_minor": 5
}
